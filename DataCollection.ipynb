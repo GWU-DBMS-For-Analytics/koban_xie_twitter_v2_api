{
 "cells": [
  {
   "cell_type": "code",
   "execution_count": 1,
   "metadata": {},
   "outputs": [],
   "source": [
    "import api_wrapper as api\n",
    "import os\n",
    "import pandas as pd"
   ]
  },
  {
   "cell_type": "markdown",
   "metadata": {},
   "source": [
    "### 1. Set the `BEARER_TOKEN` variable to your developer bearer token."
   ]
  },
  {
   "cell_type": "code",
   "execution_count": 2,
   "metadata": {},
   "outputs": [],
   "source": [
    "token = pd.read_csv(\"/Users/dankoban/Documents/EM6586_DB_Management/bearer_token.csv\")\n",
    "os.environ[\"BEARER_TOKEN\"] = token['token'][0]"
   ]
  },
  {
   "cell_type": "markdown",
   "metadata": {},
   "source": [
    "### 2. Query seeds for profile info (some accounts may be suspended or deleted)"
   ]
  },
  {
   "cell_type": "code",
   "execution_count": 3,
   "metadata": {},
   "outputs": [
    {
     "data": {
      "text/plain": [
       "2000"
      ]
     },
     "execution_count": 3,
     "metadata": {},
     "output_type": "execute_result"
    }
   ],
   "source": [
    "seed_accounts =  pd.read_csv('data/seed_accounts.csv')\n",
    "seed_accounts = seed_accounts.screen_name\n",
    "len(seed_accounts)"
   ]
  },
  {
   "cell_type": "code",
   "execution_count": 5,
   "metadata": {},
   "outputs": [
    {
     "data": {
      "text/plain": [
       "900"
      ]
     },
     "execution_count": 5,
     "metadata": {},
     "output_type": "execute_result"
    }
   ],
   "source": [
    "# \n",
    "60*15\n"
   ]
  },
  {
   "cell_type": "code",
   "execution_count": null,
   "metadata": {},
   "outputs": [],
   "source": [
    "# Add sleep to prevent exceeding the rate limit\n",
    "counter = 0\n",
    "all_users_df = []\n",
    "for user in all_users:     \n",
    "    try: \n",
    "        resp = api.get_users(usernames=user)        \n",
    "        time.sleep(1.5)\n",
    "        all_users_df.append(resp)         \n",
    "    except:\n",
    "        pass\n",
    "    counter += 1\n",
    "    if counter %250 == 0:\n",
    "        print(str(counter) + ' out of ' + str(len(all_users)) + ' :: ' + user + ': ' + str(len(resp)))\n",
    "        \n",
    "all_users_df = pd.concat(all_users_df)    \n",
    "all_users_df.reset_index(inplace = True, drop = True)\n",
    "print(len(all_users_df))"
   ]
  },
  {
   "cell_type": "markdown",
   "metadata": {},
   "source": [
    "### 2. Query user profile info"
   ]
  },
  {
   "cell_type": "code",
   "execution_count": null,
   "metadata": {},
   "outputs": [],
   "source": [
    "usernames = ['Broniatowski']\n",
    "user_info = api.get_users(usernames=usernames)\n",
    "user_info"
   ]
  },
  {
   "cell_type": "markdown",
   "metadata": {},
   "source": [
    "### 3. Query user to determine which accounts they follow"
   ]
  },
  {
   "cell_type": "code",
   "execution_count": null,
   "metadata": {},
   "outputs": [],
   "source": [
    "followed_accounts = api.lookup_followed_accounts('Broniatowski', record_count = 300)\n",
    "followed_accounts.head()"
   ]
  },
  {
   "cell_type": "code",
   "execution_count": null,
   "metadata": {},
   "outputs": [],
   "source": [
    "misinfo_researchers = ['Broniatowski','IrenePasquetto','KolinaKoltai','uwcip','sarahshirazyan','nataschachtena',\n",
    " 'nadiabrashier','disinformediain','jayvanbavel','lkfazio','STWorg','yang3kc','DG_Rand','_mohsen_m','KaiShu0327',\n",
    " 'GWIDDP','yangyunkang','redheadacademic','marco_zenone','sinanaral','davidlazer','az_jacobs','PedramHosseini',\n",
    " 'AMJAMAMJAM1','emmaspiro','psychunseen','MattHindman','Briony_Swire','lylengyan','emilio__ferrara','Graphika_NYC',\n",
    " 'naomishiffman','katestarbird','noUpside','LeticiaBode','ekvraga','RebekahKTromble','gmukunda',\n",
    " 'jonathan_c_ong', 'EthanVPorter','GordPennycook']\n",
    "followed_accounts[followed_accounts['username'].isin(misinfo_researchers)]"
   ]
  },
  {
   "cell_type": "markdown",
   "metadata": {},
   "source": [
    "### 4. Query user activity for last 200 posts"
   ]
  },
  {
   "cell_type": "code",
   "execution_count": null,
   "metadata": {},
   "outputs": [],
   "source": [
    "activity = api.get_user_activity(usernames=misinfo_researchers, record_count = 200)\n",
    "print(len(activity))\n",
    "activity.head()"
   ]
  },
  {
   "cell_type": "markdown",
   "metadata": {},
   "source": [
    "### 5. Extract edge lists"
   ]
  },
  {
   "cell_type": "code",
   "execution_count": null,
   "metadata": {},
   "outputs": [],
   "source": [
    "el = api.extract_el(activity)\n",
    "el.head()"
   ]
  },
  {
   "cell_type": "markdown",
   "metadata": {},
   "source": [
    "### 6. Query seed and mentioned accounts for account info"
   ]
  },
  {
   "cell_type": "code",
   "execution_count": null,
   "metadata": {},
   "outputs": [],
   "source": [
    "seed_users = misinfo_researchers\n",
    "print('seed user count: ' + str(len(seed_users)))\n",
    "mentioned_users = el['to'][el['edge_type'] == 'mention'].unique().tolist()\n",
    "print('mentioned user count: ' + str(len(mentioned_users)))\n",
    "all_users = list(set(seed_users + mentioned_users))\n",
    "print('total unique users: ' + str(len(all_users)))"
   ]
  },
  {
   "cell_type": "code",
   "execution_count": null,
   "metadata": {},
   "outputs": [],
   "source": [
    "#Add sleep since Twitter API rate limit is 900 user queries per 15 minutes\n",
    "import time\n",
    "\n",
    "counter = 0\n",
    "all_users_df = []\n",
    "for user in all_users:     \n",
    "    try: \n",
    "        resp = api.get_users(usernames=user)        \n",
    "        time.sleep(4)\n",
    "        all_users_df.append(resp)         \n",
    "    except:\n",
    "        pass\n",
    "    counter += 1\n",
    "    if counter %250 == 0:\n",
    "        print(str(counter) + ' out of ' + str(len(all_users)) + ' :: ' + user + ': ' + str(len(resp)))\n",
    "        \n",
    "all_users_df = pd.concat(all_users_df)    \n",
    "all_users_df.reset_index(inplace = True, drop = True)\n",
    "print(len(all_users_df))"
   ]
  },
  {
   "cell_type": "markdown",
   "metadata": {},
   "source": [
    "### 7. Write data to disc"
   ]
  },
  {
   "cell_type": "code",
   "execution_count": null,
   "metadata": {},
   "outputs": [],
   "source": [
    "# Write data to disc so I don't burn through all my queries\n",
    "#all_users_df.to_csv('data/all_users.csv', index = False)\n",
    "#activity.to_csv('data/activity.csv', index = False)\n",
    "#el.to_csv('data/el.csv', index = False)"
   ]
  }
 ],
 "metadata": {
  "kernelspec": {
   "display_name": "forcenexus",
   "language": "python",
   "name": "forcenexus"
  },
  "language_info": {
   "codemirror_mode": {
    "name": "ipython",
    "version": 3
   },
   "file_extension": ".py",
   "mimetype": "text/x-python",
   "name": "python",
   "nbconvert_exporter": "python",
   "pygments_lexer": "ipython3",
   "version": "3.8.2"
  }
 },
 "nbformat": 4,
 "nbformat_minor": 4
}
