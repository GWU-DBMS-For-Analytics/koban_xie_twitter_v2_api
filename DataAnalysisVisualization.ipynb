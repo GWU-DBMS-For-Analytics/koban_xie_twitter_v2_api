{
 "cells": [
  {
   "cell_type": "markdown",
   "metadata": {},
   "source": [
    "### Query MySQL for data"
   ]
  },
  {
   "cell_type": "code",
   "execution_count": null,
   "metadata": {},
   "outputs": [
    {
     "name": "stdout",
     "output_type": "stream",
     "text": [
      "user table size: 1090\n",
      "statuses table size: 208585\n"
     ]
    }
   ],
   "source": [
    "import pymysql\n",
    "\n",
    "# Connect to the database\n",
    "connection = pymysql.connect(host='127.0.0.1',\n",
    "                             user='root',\n",
    "                             port=3306,\n",
    "                             db='db',\n",
    "                             password='password')\n",
    "\n",
    "cursor = connection.cursor()\n",
    "\n",
    "print('user table size: ' + str(cursor.execute(\"SELECT * FROM db.users\")))\n",
    "print('statuses table size: ' + str(cursor.execute(\"SELECT * FROM db.statuses\")))\n",
    "print('edgelist table size: ' + str(cursor.execute(\"SELECT * FROM db.edgelist\")))"
   ]
  },
  {
   "cell_type": "markdown",
   "metadata": {},
   "source": [
    "## Find the Most Liked Tweets"
   ]
  },
  {
   "cell_type": "code",
   "execution_count": null,
   "metadata": {},
   "outputs": [],
   "source": [
    "import pandas as pd\n",
    "import network_vis_helper as visnet\n",
    "import time\n",
    "from datetime import timedelta\n",
    "pd.set_option('display.max_colwidth', None)\n",
    "\n",
    "start_time = time.time()\n",
    "statuses = pd.read_sql(\"SELECT * FROM statuses\", connection)\n",
    "most_liked_tweets = (statuses[['author_screen_name', 'text', 'like_count']].\n",
    "                     sort_values('like_count', ascending = False).\n",
    "                     head(10))\n",
    "print(\"--- %s time elapsed ---\" % str(timedelta(seconds=time.time() - start_time)))\n",
    "most_liked_tweets"
   ]
  },
  {
   "cell_type": "markdown",
   "metadata": {},
   "source": [
    "Now compare to the speed of asking the same question using SQL."
   ]
  },
  {
   "cell_type": "code",
   "execution_count": null,
   "metadata": {},
   "outputs": [],
   "source": [
    "start_time = time.time()\n",
    "most_liked_tweets = pd.read_sql(\"SELECT author_screen_name, text, like_count FROM statuses ORDER BY like_count DESC LIMIT 10\", connection) \n",
    "print(\"--- %s time elapsed ---\" % str(timedelta(seconds=time.time() - start_time)))\n",
    "most_liked_tweets"
   ]
  },
  {
   "cell_type": "markdown",
   "metadata": {},
   "source": [
    "### Visualize networks"
   ]
  },
  {
   "cell_type": "code",
   "execution_count": null,
   "metadata": {},
   "outputs": [],
   "source": [
    "el = pd.read_sql(\"SELECT * FROM edgelist WHERE edge_type = 'hashtag'\", connection)\n",
    "weighted_el = visnet.get_weighted_el(el)\n",
    "visnet.render_graph(weighted_el, edge_type = 'hashtag', edge_weight_threshold = 20)"
   ]
  },
  {
   "cell_type": "code",
   "execution_count": null,
   "metadata": {},
   "outputs": [],
   "source": [
    "top_hashtags = (weighted_el[weighted_el['edge_type'] == 'hashtag']\n",
    "                .groupby('target').sum().reset_index()\n",
    "                .sort_values('weight', ascending = False))\n",
    "top_hashtags.head(20)"
   ]
  }
 ],
 "metadata": {
  "kernelspec": {
   "display_name": "Python 3",
   "language": "python",
   "name": "python3"
  },
  "language_info": {
   "codemirror_mode": {
    "name": "ipython",
    "version": 3
   },
   "file_extension": ".py",
   "mimetype": "text/x-python",
   "name": "python",
   "nbconvert_exporter": "python",
   "pygments_lexer": "ipython3",
   "version": "3.8.5"
  }
 },
 "nbformat": 4,
 "nbformat_minor": 4
}
