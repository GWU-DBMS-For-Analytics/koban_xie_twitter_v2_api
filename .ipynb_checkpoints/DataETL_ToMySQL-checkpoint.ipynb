{
 "cells": [
  {
   "cell_type": "markdown",
   "metadata": {},
   "source": [
    "# Creating our Database\n",
    "\n",
    "This notebook walks through how I put together our tables for the MySQL portion of the course."
   ]
  },
  {
   "cell_type": "code",
   "execution_count": 1,
   "metadata": {},
   "outputs": [],
   "source": [
    "import pymysql\n",
    "\n",
    "# Connect to the database\n",
    "connection = pymysql.connect(host='127.0.0.1',\n",
    "                             user='root',\n",
    "                             port=3306,\n",
    "                             db='db',\n",
    "                             password='password')\n",
    "\n",
    "cursor = connection.cursor()"
   ]
  },
  {
   "cell_type": "markdown",
   "metadata": {},
   "source": [
    "## Dropping Existing Tables\n",
    "Generally a good first step for setting up a database is to remove everything that is already there. This avoids any potential conflicts on creations/inserts.\n",
    "\n",
    "Therefore we first **DROP** all of the tables we'll be using if they exist."
   ]
  },
  {
   "cell_type": "code",
   "execution_count": 2,
   "metadata": {},
   "outputs": [
    {
     "name": "stdout",
     "output_type": "stream",
     "text": [
      "statuses\n",
      "edgelist\n",
      "users\n"
     ]
    }
   ],
   "source": [
    "\"\"\"Drop tables\"\"\"\n",
    "tables = ['statuses', 'edgelist', 'users']\n",
    "for table in tables:\n",
    "    print(table)\n",
    "    drop_query = f\"\"\"DROP TABLE IF EXISTS {table};\"\"\"\n",
    "    cursor.execute(drop_query)\n",
    "connection.commit()"
   ]
  },
  {
   "cell_type": "markdown",
   "metadata": {},
   "source": [
    "## Creating Our Tables\n",
    "Once we've cleared things out, we can start creating the tables we'll be using.\n",
    "\n",
    "We create a table by calling **CREATE TABLE *table_name*(*colls*)**. One thing to keep in mind is the use of **PRIMARY KEY(*coll*)**, this simply identifies the column that will be used as the primary key."
   ]
  },
  {
   "cell_type": "code",
   "execution_count": 3,
   "metadata": {},
   "outputs": [],
   "source": [
    "\"\"\"Create users table to track twitter users\"\"\"\n",
    "make_user_table = \"\"\"CREATE TABLE users(\n",
    "                        user_id VARCHAR(255),                        \n",
    "                        screen_name VARCHAR(255),\n",
    "                        name VARCHAR(255),\n",
    "                        description VARCHAR(255),\n",
    "                        location VARCHAR(255),                                                \n",
    "                        created_at DATE,                     \n",
    "                        followers_count INT,\n",
    "                        following_count INT,\n",
    "                        statuses_count INT,\n",
    "                        listed_count INT,                        \n",
    "                        PRIMARY KEY(user_id));\"\"\"\n",
    "\n",
    "cursor.execute(make_user_table)\n",
    "connection.commit()"
   ]
  },
  {
   "cell_type": "markdown",
   "metadata": {},
   "source": [
    "## Foreign Keys\n",
    "All subsequent table creation queries will look relatively the same, the key difference is the **FOREIGN KEY(*coll*)** statement. This statement defines a relationship to another table (which is a hard rule - no insertions that don't meet constraints).\n",
    "\n",
    "Notes:\n",
    " - **REFERENCES *table_name(coll in table)**: This details where the foreign relationship can be found\n",
    " - **ON DELETE CASCADE**: This isn't required, but states that if the foreign key is removed, also remove this record"
   ]
  },
  {
   "cell_type": "code",
   "execution_count": 4,
   "metadata": {},
   "outputs": [],
   "source": [
    "\"\"\"Create statuses table to track user posts\"\"\"\n",
    "make_statuses_table = \"\"\"CREATE TABLE statuses(\n",
    "                        author_screen_name VARCHAR(255),\n",
    "                        author_id VARCHAR(255),\n",
    "                        in_reply_to_user_id VARCHAR(255),\n",
    "                        conversation_id VARCHAR(255),\n",
    "                        status_id VARCHAR(255),                        \n",
    "                        lang VARCHAR(255),                        \n",
    "                        text TEXT,\n",
    "                        created_at DATE,\n",
    "                        retweet_count INT,\n",
    "                        reply_count INT,\n",
    "                        like_count INT,\n",
    "                        quote_count INT,\n",
    "                        PRIMARY KEY (status_id),\n",
    "                        FOREIGN KEY (author_id)\n",
    "                            REFERENCES users(user_id)\n",
    "                            ON DELETE CASCADE);\"\"\"\n",
    "\n",
    "cursor.execute(make_statuses_table)\n",
    "connection.commit()"
   ]
  },
  {
   "cell_type": "code",
   "execution_count": 5,
   "metadata": {},
   "outputs": [],
   "source": [
    "\"\"\"Create edge table to track mention, hashtag, and url network\"\"\"\n",
    "make_edgelist_table = \"\"\"CREATE TABLE edgelist(\n",
    "                        author_id_from VARCHAR(255),\n",
    "                        author_screen_name_from VARCHAR(255), \n",
    "                        to_screen_name VARCHAR(255),\n",
    "                        status_id VARCHAR(255),                                              \n",
    "                        edge_type VARCHAR(255),                                                                                                          \n",
    "                        PRIMARY KEY (author_id_from, to_screen_name, status_id),\n",
    "                        FOREIGN KEY (author_id_from)\n",
    "                            REFERENCES users(user_id)\n",
    "                            ON DELETE CASCADE);\"\"\"\n",
    "\n",
    "cursor.execute(make_edgelist_table)\n",
    "connection.commit()"
   ]
  }
 ],
 "metadata": {
  "kernelspec": {
   "display_name": "Python 3",
   "language": "python",
   "name": "python3"
  },
  "language_info": {
   "codemirror_mode": {
    "name": "ipython",
    "version": 3
   },
   "file_extension": ".py",
   "mimetype": "text/x-python",
   "name": "python",
   "nbconvert_exporter": "python",
   "pygments_lexer": "ipython3",
   "version": "3.8.5"
  }
 },
 "nbformat": 4,
 "nbformat_minor": 4
}
