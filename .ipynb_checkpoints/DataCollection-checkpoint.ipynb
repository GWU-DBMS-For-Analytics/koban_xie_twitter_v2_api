{
 "cells": [
  {
   "cell_type": "code",
   "execution_count": 1,
   "metadata": {},
   "outputs": [],
   "source": [
    "import api_wrapper as api\n",
    "import os\n",
    "import pandas as pd"
   ]
  },
  {
   "cell_type": "markdown",
   "metadata": {},
   "source": [
    "### 1. Set the `BEARER_TOKEN` variable to your developer bearer token."
   ]
  },
  {
   "cell_type": "code",
   "execution_count": 4,
   "metadata": {},
   "outputs": [],
   "source": [
    "token = pd.read_csv(\"/Users/dankoban/Documents/EM6586_DB_Management/bearer_token.csv\")\n",
    "os.environ[\"BEARER_TOKEN\"] = token['token'][0]"
   ]
  },
  {
   "cell_type": "markdown",
   "metadata": {},
   "source": [
    "### 2. Query user profile info"
   ]
  },
  {
   "cell_type": "code",
   "execution_count": 11,
   "metadata": {},
   "outputs": [
    {
     "data": {
      "text/html": [
       "<div>\n",
       "<style scoped>\n",
       "    .dataframe tbody tr th:only-of-type {\n",
       "        vertical-align: middle;\n",
       "    }\n",
       "\n",
       "    .dataframe tbody tr th {\n",
       "        vertical-align: top;\n",
       "    }\n",
       "\n",
       "    .dataframe thead th {\n",
       "        text-align: right;\n",
       "    }\n",
       "</style>\n",
       "<table border=\"1\" class=\"dataframe\">\n",
       "  <thead>\n",
       "    <tr style=\"text-align: right;\">\n",
       "      <th></th>\n",
       "      <th>user_id</th>\n",
       "      <th>username</th>\n",
       "      <th>name</th>\n",
       "      <th>description</th>\n",
       "      <th>location</th>\n",
       "      <th>created_at</th>\n",
       "      <th>followers_count</th>\n",
       "      <th>following_count</th>\n",
       "      <th>tweet_count</th>\n",
       "      <th>listed_count</th>\n",
       "    </tr>\n",
       "  </thead>\n",
       "  <tbody>\n",
       "    <tr>\n",
       "      <th>0</th>\n",
       "      <td>195572533</td>\n",
       "      <td>Broniatowski</td>\n",
       "      <td>David A. Broniatowski</td>\n",
       "      <td>Professor at The George Washington University ...</td>\n",
       "      <td>Washington, DC</td>\n",
       "      <td>2010-09-27T01:39:27.000Z</td>\n",
       "      <td>260.0</td>\n",
       "      <td>274.0</td>\n",
       "      <td>242.0</td>\n",
       "      <td>3.0</td>\n",
       "    </tr>\n",
       "  </tbody>\n",
       "</table>\n",
       "</div>"
      ],
      "text/plain": [
       "     user_id      username                   name  \\\n",
       "0  195572533  Broniatowski  David A. Broniatowski   \n",
       "\n",
       "                                         description        location  \\\n",
       "0  Professor at The George Washington University ...  Washington, DC   \n",
       "\n",
       "                 created_at  followers_count  following_count  tweet_count  \\\n",
       "0  2010-09-27T01:39:27.000Z            260.0            274.0        242.0   \n",
       "\n",
       "   listed_count  \n",
       "0           3.0  "
      ]
     },
     "execution_count": 11,
     "metadata": {},
     "output_type": "execute_result"
    }
   ],
   "source": [
    "usernames = ['Broniatowski']\n",
    "user_info = api.get_users(usernames=usernames)\n",
    "user_info"
   ]
  },
  {
   "cell_type": "markdown",
   "metadata": {},
   "source": [
    "### 3. Query user to determine which accounts they follow"
   ]
  },
  {
   "cell_type": "code",
   "execution_count": null,
   "metadata": {},
   "outputs": [],
   "source": [
    "followed_accounts = api.lookup_followed_accounts('Broniatowski', record_count = 300)\n",
    "followed_accounts.head()"
   ]
  },
  {
   "cell_type": "code",
   "execution_count": null,
   "metadata": {},
   "outputs": [],
   "source": [
    "misinfo_researchers = ['Broniatowski','IrenePasquetto','KolinaKoltai','uwcip','sarahshirazyan','nataschachtena',\n",
    " 'nadiabrashier','disinformediain','jayvanbavel','lkfazio','STWorg','yang3kc','DG_Rand','_mohsen_m','KaiShu0327',\n",
    " 'GWIDDP','yangyunkang','redheadacademic','marco_zenone','sinanaral','davidlazer','az_jacobs','PedramHosseini',\n",
    " 'AMJAMAMJAM1','emmaspiro','psychunseen','MattHindman','Briony_Swire','lylengyan','emilio__ferrara','Graphika_NYC',\n",
    " 'naomishiffman','katestarbird','noUpside','LeticiaBode','ekvraga','RebekahKTromble','gmukunda',\n",
    " 'jonathan_c_ong', 'EthanVPorter','GordPennycook']\n",
    "followed_accounts[followed_accounts['username'].isin(misinfo_researchers)]"
   ]
  },
  {
   "cell_type": "markdown",
   "metadata": {},
   "source": [
    "### 4. Query user activity for last 200 posts"
   ]
  },
  {
   "cell_type": "code",
   "execution_count": null,
   "metadata": {},
   "outputs": [],
   "source": [
    "activity = api.get_user_activity(usernames=misinfo_researchers, record_count = 200)\n",
    "print(len(activity))\n",
    "activity.head()"
   ]
  },
  {
   "cell_type": "markdown",
   "metadata": {},
   "source": [
    "### 5. Extract edge lists"
   ]
  },
  {
   "cell_type": "code",
   "execution_count": null,
   "metadata": {},
   "outputs": [],
   "source": [
    "el = api.extract_el(activity)\n",
    "el.head()"
   ]
  },
  {
   "cell_type": "markdown",
   "metadata": {},
   "source": [
    "### 6. Query seed and mentioned accounts for account info"
   ]
  },
  {
   "cell_type": "code",
   "execution_count": null,
   "metadata": {},
   "outputs": [],
   "source": [
    "seed_users = misinfo_researchers\n",
    "print('seed user count: ' + str(len(seed_users)))\n",
    "mentioned_users = el['to'][el['edge_type'] == 'mention'].unique().tolist()\n",
    "print('mentioned user count: ' + str(len(mentioned_users)))\n",
    "all_users = list(set(seed_users + mentioned_users))\n",
    "print('total unique users: ' + str(len(all_users)))"
   ]
  },
  {
   "cell_type": "code",
   "execution_count": null,
   "metadata": {},
   "outputs": [],
   "source": [
    "#Add sleep since Twitter API rate limit is 900 user queries per 15 minutes\n",
    "import time\n",
    "\n",
    "counter = 0\n",
    "all_users_df = []\n",
    "for user in all_users:     \n",
    "    try: \n",
    "        resp = api.get_users(usernames=user)        \n",
    "        time.sleep(4)\n",
    "        all_users_df.append(resp)         \n",
    "    except:\n",
    "        pass\n",
    "    counter += 1\n",
    "    if counter %250 == 0:\n",
    "        print(str(counter) + ' out of ' + str(len(all_users)) + ' :: ' + user + ': ' + str(len(resp)))\n",
    "        \n",
    "all_users_df = pd.concat(all_users_df)    \n",
    "all_users_df.reset_index(inplace = True, drop = True)\n",
    "print(len(all_users_df))"
   ]
  },
  {
   "cell_type": "markdown",
   "metadata": {},
   "source": [
    "### 7. Write data to disc"
   ]
  },
  {
   "cell_type": "code",
   "execution_count": null,
   "metadata": {},
   "outputs": [],
   "source": [
    "# Write data to disc so I don't burn through all my queries\n",
    "#all_users_df.to_csv('data/all_users.csv', index = False)\n",
    "#activity.to_csv('data/activity.csv', index = False)\n",
    "#el.to_csv('data/el.csv', index = False)"
   ]
  }
 ],
 "metadata": {
  "kernelspec": {
   "display_name": "forcenexus",
   "language": "python",
   "name": "forcenexus"
  },
  "language_info": {
   "codemirror_mode": {
    "name": "ipython",
    "version": 3
   },
   "file_extension": ".py",
   "mimetype": "text/x-python",
   "name": "python",
   "nbconvert_exporter": "python",
   "pygments_lexer": "ipython3",
   "version": "3.8.2"
  }
 },
 "nbformat": 4,
 "nbformat_minor": 4
}
