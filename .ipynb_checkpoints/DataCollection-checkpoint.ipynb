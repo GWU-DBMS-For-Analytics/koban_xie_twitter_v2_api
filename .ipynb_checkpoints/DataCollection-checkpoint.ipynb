{
 "cells": [
  {
   "cell_type": "code",
   "execution_count": 1,
   "metadata": {},
   "outputs": [],
   "source": [
    "import api_wrapper as api\n",
    "import os\n",
    "import pandas as pd\n",
    "import time"
   ]
  },
  {
   "cell_type": "markdown",
   "metadata": {},
   "source": [
    "### 1. Set the `BEARER_TOKEN` variable to your developer bearer token."
   ]
  },
  {
   "cell_type": "code",
   "execution_count": 2,
   "metadata": {},
   "outputs": [],
   "source": [
    "token = pd.read_csv(\"/Users/dankoban/Documents/EM6586_DB_Management/bearer_token.csv\")\n",
    "os.environ[\"BEARER_TOKEN\"] = token['token'][0]"
   ]
  },
  {
   "cell_type": "markdown",
   "metadata": {},
   "source": [
    "### 2. Query seeds for profile info (some accounts may be suspended or deleted)"
   ]
  },
  {
   "cell_type": "code",
   "execution_count": 3,
   "metadata": {},
   "outputs": [
    {
     "data": {
      "text/plain": [
       "5"
      ]
     },
     "execution_count": 3,
     "metadata": {},
     "output_type": "execute_result"
    }
   ],
   "source": [
    "seed_accounts =  pd.read_csv('data/seed_accounts.csv')\n",
    "seed_accounts = seed_accounts['screen_name'].tolist()\n",
    "seed_accounts = seed_accounts[0:5] # set to 5 accounts for testing\n",
    "len(seed_accounts)"
   ]
  },
  {
   "cell_type": "code",
   "execution_count": 4,
   "metadata": {},
   "outputs": [
    {
     "name": "stdout",
     "output_type": "stream",
     "text": [
      "2\n",
      "3\n"
     ]
    }
   ],
   "source": [
    "# Add sleep to prevent exceeding the rate limit of 900 accounts per 15 minutes (60 per min)\n",
    "counter = 0\n",
    "seed_account_info = []\n",
    "suspended_list = []\n",
    "for user in seed_accounts:     \n",
    "    time.sleep(2)    \n",
    "    try:\n",
    "        resp = api.get_users(usernames=user)                    \n",
    "        seed_account_info.append(resp) \n",
    "    except:\n",
    "        resp = pd.DataFrame({'user_name': [user], 'description': ['suspended_closed']})\n",
    "        suspended_list.append(resp)         \n",
    "    counter += 1        \n",
    "    if counter %250 == 0:\n",
    "        print(str(counter) + ' out of ' + str(len(seed_accounts)) + ' :: ' + user + ': ' + str(resp.shape))\n",
    "        \n",
    "seed_account_info = pd.concat(seed_account_info)    \n",
    "seed_account_info.reset_index(inplace = True, drop = True)\n",
    "suspended_list = pd.concat(suspended_list)    \n",
    "suspended_list.reset_index(inplace = True, drop = True)\n",
    "print(len(seed_account_info))\n",
    "print(len(suspended_list))"
   ]
  },
  {
   "cell_type": "code",
   "execution_count": 5,
   "metadata": {},
   "outputs": [
    {
     "data": {
      "text/html": [
       "<div>\n",
       "<style scoped>\n",
       "    .dataframe tbody tr th:only-of-type {\n",
       "        vertical-align: middle;\n",
       "    }\n",
       "\n",
       "    .dataframe tbody tr th {\n",
       "        vertical-align: top;\n",
       "    }\n",
       "\n",
       "    .dataframe thead th {\n",
       "        text-align: right;\n",
       "    }\n",
       "</style>\n",
       "<table border=\"1\" class=\"dataframe\">\n",
       "  <thead>\n",
       "    <tr style=\"text-align: right;\">\n",
       "      <th></th>\n",
       "      <th>user_id</th>\n",
       "      <th>username</th>\n",
       "      <th>name</th>\n",
       "      <th>description</th>\n",
       "      <th>location</th>\n",
       "      <th>created_at</th>\n",
       "      <th>followers_count</th>\n",
       "      <th>following_count</th>\n",
       "      <th>tweet_count</th>\n",
       "      <th>listed_count</th>\n",
       "    </tr>\n",
       "  </thead>\n",
       "  <tbody>\n",
       "    <tr>\n",
       "      <th>0</th>\n",
       "      <td>4322065997</td>\n",
       "      <td>thereal_truther</td>\n",
       "      <td>The Real Truther</td>\n",
       "      <td>Team Reality forever. Exposing the COVID denie...</td>\n",
       "      <td>California</td>\n",
       "      <td>2015-11-29T21:35:35.000Z</td>\n",
       "      <td>7255.0</td>\n",
       "      <td>5526.0</td>\n",
       "      <td>130770.0</td>\n",
       "      <td>86.0</td>\n",
       "    </tr>\n",
       "    <tr>\n",
       "      <th>1</th>\n",
       "      <td>404290687</td>\n",
       "      <td>crwriter1</td>\n",
       "      <td>Joyce 🐝 Bowen</td>\n",
       "      <td>*Child advocate by virtue of circumstance. *Wr...</td>\n",
       "      <td>NaN</td>\n",
       "      <td>2011-11-03T18:19:19.000Z</td>\n",
       "      <td>11283.0</td>\n",
       "      <td>11321.0</td>\n",
       "      <td>317181.0</td>\n",
       "      <td>73.0</td>\n",
       "    </tr>\n",
       "  </tbody>\n",
       "</table>\n",
       "</div>"
      ],
      "text/plain": [
       "      user_id         username              name  \\\n",
       "0  4322065997  thereal_truther  The Real Truther   \n",
       "1   404290687        crwriter1     Joyce 🐝 Bowen   \n",
       "\n",
       "                                         description    location  \\\n",
       "0  Team Reality forever. Exposing the COVID denie...  California   \n",
       "1  *Child advocate by virtue of circumstance. *Wr...         NaN   \n",
       "\n",
       "                 created_at  followers_count  following_count  tweet_count  \\\n",
       "0  2015-11-29T21:35:35.000Z           7255.0           5526.0     130770.0   \n",
       "1  2011-11-03T18:19:19.000Z          11283.0          11321.0     317181.0   \n",
       "\n",
       "   listed_count  \n",
       "0          86.0  \n",
       "1          73.0  "
      ]
     },
     "execution_count": 5,
     "metadata": {},
     "output_type": "execute_result"
    }
   ],
   "source": [
    "#seed_account_info.to_csv('data/seed_account_info.csv', index = False)\n",
    "#suspended_list.to_csv('data/suspended_list.csv', index = False)\n",
    "seed_account_info.head()"
   ]
  },
  {
   "cell_type": "markdown",
   "metadata": {},
   "source": [
    "### 3. Query user activity for last 200 posts"
   ]
  },
  {
   "cell_type": "code",
   "execution_count": 6,
   "metadata": {},
   "outputs": [
    {
     "name": "stdout",
     "output_type": "stream",
     "text": [
      "token: 7140dibdnow9c7btw3w3xyxlq5j2o5iixz6hnw4lnz6m0\n",
      "token: 7140dibdnow9c7btw3w3xwuobdtdykza2or1pndet1zxy\n",
      "token: 7140dibdnow9c7btw3w3xyxlq3tdsgi7fz8od2lf7y81g\n",
      "token: 7140dibdnow9c7btw3w3xyxaq3r6vmj5qfuzcz4inld80\n",
      "2\n",
      "3\n"
     ]
    }
   ],
   "source": [
    "# Add sleep to prevent exceeding the rate limit \n",
    "counter = 0\n",
    "activity_list = []\n",
    "no_activity_list = []\n",
    "for user in seed_accounts:     \n",
    "    time.sleep(2)    \n",
    "    try:\n",
    "        resp = api.get_user_activity(usernames=[user], record_count = 200)\n",
    "        activity_list.append(resp) \n",
    "    except:\n",
    "        resp = pd.DataFrame({'user_name': [user], 'description': ['no_activity']})\n",
    "        no_activity_list.append(resp)             \n",
    "    counter += 1        \n",
    "    if counter %250 == 0:\n",
    "        print(str(counter) + ' out of ' + str(len(seed_accounts)) + ' :: ' + user + ': ' + str(resp.shape))\n",
    "        \n",
    "activity = pd.concat(activity_list)    \n",
    "activity.reset_index(inplace = True, drop = True)\n",
    "no_acitivity = pd.concat(no_activity_list)    \n",
    "no_acitivity.reset_index(inplace = True, drop = True)\n",
    "print(len(activity_list))\n",
    "print(len(no_activity_list))"
   ]
  },
  {
   "cell_type": "code",
   "execution_count": 7,
   "metadata": {},
   "outputs": [
    {
     "data": {
      "text/html": [
       "<div>\n",
       "<style scoped>\n",
       "    .dataframe tbody tr th:only-of-type {\n",
       "        vertical-align: middle;\n",
       "    }\n",
       "\n",
       "    .dataframe tbody tr th {\n",
       "        vertical-align: top;\n",
       "    }\n",
       "\n",
       "    .dataframe thead th {\n",
       "        text-align: right;\n",
       "    }\n",
       "</style>\n",
       "<table border=\"1\" class=\"dataframe\">\n",
       "  <thead>\n",
       "    <tr style=\"text-align: right;\">\n",
       "      <th></th>\n",
       "      <th>created_at</th>\n",
       "      <th>conversation_id</th>\n",
       "      <th>entities</th>\n",
       "      <th>id</th>\n",
       "      <th>lang</th>\n",
       "      <th>text</th>\n",
       "      <th>referenced_tweets</th>\n",
       "      <th>public_metrics</th>\n",
       "      <th>author_id</th>\n",
       "      <th>in_reply_to_user_id</th>\n",
       "      <th>author_screen_name</th>\n",
       "      <th>retweet_count</th>\n",
       "      <th>reply_count</th>\n",
       "      <th>like_count</th>\n",
       "      <th>quote_count</th>\n",
       "      <th>referenced_tweet_type</th>\n",
       "      <th>referenced_tweet_id</th>\n",
       "    </tr>\n",
       "  </thead>\n",
       "  <tbody>\n",
       "    <tr>\n",
       "      <th>0</th>\n",
       "      <td>2021-03-18T02:03:01.000Z</td>\n",
       "      <td>1372218826079797255</td>\n",
       "      <td>{'mentions': [{'start': 0, 'end': 8, 'username...</td>\n",
       "      <td>1372367909519958016</td>\n",
       "      <td>en</td>\n",
       "      <td>@EHill73 @OBusybody @Kevin_McKernan Point is, ...</td>\n",
       "      <td>[{'type': 'replied_to', 'id': '137236746590515...</td>\n",
       "      <td>{'retweet_count': 0, 'reply_count': 1, 'like_c...</td>\n",
       "      <td>4322065997</td>\n",
       "      <td>4322065997</td>\n",
       "      <td>thereal_truther</td>\n",
       "      <td>0</td>\n",
       "      <td>1</td>\n",
       "      <td>0</td>\n",
       "      <td>0</td>\n",
       "      <td>replied_to</td>\n",
       "      <td>1372367465905156096</td>\n",
       "    </tr>\n",
       "    <tr>\n",
       "      <th>1</th>\n",
       "      <td>2021-03-18T02:01:15.000Z</td>\n",
       "      <td>1372218826079797255</td>\n",
       "      <td>{'mentions': [{'start': 0, 'end': 8, 'username...</td>\n",
       "      <td>1372367465905156096</td>\n",
       "      <td>en</td>\n",
       "      <td>@EHill73 @OBusybody @Kevin_McKernan I'm not sa...</td>\n",
       "      <td>[{'type': 'quoted', 'id': '1349464787202285571...</td>\n",
       "      <td>{'retweet_count': 0, 'reply_count': 2, 'like_c...</td>\n",
       "      <td>4322065997</td>\n",
       "      <td>60120455</td>\n",
       "      <td>thereal_truther</td>\n",
       "      <td>0</td>\n",
       "      <td>2</td>\n",
       "      <td>0</td>\n",
       "      <td>0</td>\n",
       "      <td>quoted</td>\n",
       "      <td>1349464787202285571</td>\n",
       "    </tr>\n",
       "    <tr>\n",
       "      <th>2</th>\n",
       "      <td>2021-03-18T01:58:55.000Z</td>\n",
       "      <td>1372218826079797255</td>\n",
       "      <td>{'mentions': [{'start': 0, 'end': 8, 'username...</td>\n",
       "      <td>1372366875150016519</td>\n",
       "      <td>en</td>\n",
       "      <td>@EHill73 @OBusybody @Kevin_McKernan A) I don't...</td>\n",
       "      <td>[{'type': 'quoted', 'id': '1371925349064437761...</td>\n",
       "      <td>{'retweet_count': 0, 'reply_count': 1, 'like_c...</td>\n",
       "      <td>4322065997</td>\n",
       "      <td>60120455</td>\n",
       "      <td>thereal_truther</td>\n",
       "      <td>0</td>\n",
       "      <td>1</td>\n",
       "      <td>0</td>\n",
       "      <td>0</td>\n",
       "      <td>quoted</td>\n",
       "      <td>1371925349064437761</td>\n",
       "    </tr>\n",
       "    <tr>\n",
       "      <th>3</th>\n",
       "      <td>2021-03-18T01:58:04.000Z</td>\n",
       "      <td>1372146089407754246</td>\n",
       "      <td>{'mentions': [{'start': 0, 'end': 8, 'username...</td>\n",
       "      <td>1372366664700895233</td>\n",
       "      <td>en</td>\n",
       "      <td>@LajXtra @CNNSotu @jeffzeleny And that they wo...</td>\n",
       "      <td>[{'type': 'replied_to', 'id': '137236650398352...</td>\n",
       "      <td>{'retweet_count': 0, 'reply_count': 1, 'like_c...</td>\n",
       "      <td>4322065997</td>\n",
       "      <td>4322065997</td>\n",
       "      <td>thereal_truther</td>\n",
       "      <td>0</td>\n",
       "      <td>1</td>\n",
       "      <td>0</td>\n",
       "      <td>0</td>\n",
       "      <td>replied_to</td>\n",
       "      <td>1372366503983521795</td>\n",
       "    </tr>\n",
       "    <tr>\n",
       "      <th>4</th>\n",
       "      <td>2021-03-18T01:57:26.000Z</td>\n",
       "      <td>1372146089407754246</td>\n",
       "      <td>{'mentions': [{'start': 0, 'end': 8, 'username...</td>\n",
       "      <td>1372366503983521795</td>\n",
       "      <td>en</td>\n",
       "      <td>@LajXtra @CNNSotu @jeffzeleny Messaging should...</td>\n",
       "      <td>[{'type': 'replied_to', 'id': '137236568529738...</td>\n",
       "      <td>{'retweet_count': 0, 'reply_count': 1, 'like_c...</td>\n",
       "      <td>4322065997</td>\n",
       "      <td>1293268225216700416</td>\n",
       "      <td>thereal_truther</td>\n",
       "      <td>0</td>\n",
       "      <td>1</td>\n",
       "      <td>0</td>\n",
       "      <td>0</td>\n",
       "      <td>replied_to</td>\n",
       "      <td>1372365685297385472</td>\n",
       "    </tr>\n",
       "  </tbody>\n",
       "</table>\n",
       "</div>"
      ],
      "text/plain": [
       "                 created_at      conversation_id  \\\n",
       "0  2021-03-18T02:03:01.000Z  1372218826079797255   \n",
       "1  2021-03-18T02:01:15.000Z  1372218826079797255   \n",
       "2  2021-03-18T01:58:55.000Z  1372218826079797255   \n",
       "3  2021-03-18T01:58:04.000Z  1372146089407754246   \n",
       "4  2021-03-18T01:57:26.000Z  1372146089407754246   \n",
       "\n",
       "                                            entities                   id  \\\n",
       "0  {'mentions': [{'start': 0, 'end': 8, 'username...  1372367909519958016   \n",
       "1  {'mentions': [{'start': 0, 'end': 8, 'username...  1372367465905156096   \n",
       "2  {'mentions': [{'start': 0, 'end': 8, 'username...  1372366875150016519   \n",
       "3  {'mentions': [{'start': 0, 'end': 8, 'username...  1372366664700895233   \n",
       "4  {'mentions': [{'start': 0, 'end': 8, 'username...  1372366503983521795   \n",
       "\n",
       "  lang                                               text  \\\n",
       "0   en  @EHill73 @OBusybody @Kevin_McKernan Point is, ...   \n",
       "1   en  @EHill73 @OBusybody @Kevin_McKernan I'm not sa...   \n",
       "2   en  @EHill73 @OBusybody @Kevin_McKernan A) I don't...   \n",
       "3   en  @LajXtra @CNNSotu @jeffzeleny And that they wo...   \n",
       "4   en  @LajXtra @CNNSotu @jeffzeleny Messaging should...   \n",
       "\n",
       "                                   referenced_tweets  \\\n",
       "0  [{'type': 'replied_to', 'id': '137236746590515...   \n",
       "1  [{'type': 'quoted', 'id': '1349464787202285571...   \n",
       "2  [{'type': 'quoted', 'id': '1371925349064437761...   \n",
       "3  [{'type': 'replied_to', 'id': '137236650398352...   \n",
       "4  [{'type': 'replied_to', 'id': '137236568529738...   \n",
       "\n",
       "                                      public_metrics   author_id  \\\n",
       "0  {'retweet_count': 0, 'reply_count': 1, 'like_c...  4322065997   \n",
       "1  {'retweet_count': 0, 'reply_count': 2, 'like_c...  4322065997   \n",
       "2  {'retweet_count': 0, 'reply_count': 1, 'like_c...  4322065997   \n",
       "3  {'retweet_count': 0, 'reply_count': 1, 'like_c...  4322065997   \n",
       "4  {'retweet_count': 0, 'reply_count': 1, 'like_c...  4322065997   \n",
       "\n",
       "   in_reply_to_user_id author_screen_name  retweet_count  reply_count  \\\n",
       "0           4322065997    thereal_truther              0            1   \n",
       "1             60120455    thereal_truther              0            2   \n",
       "2             60120455    thereal_truther              0            1   \n",
       "3           4322065997    thereal_truther              0            1   \n",
       "4  1293268225216700416    thereal_truther              0            1   \n",
       "\n",
       "   like_count  quote_count referenced_tweet_type  referenced_tweet_id  \n",
       "0           0            0            replied_to  1372367465905156096  \n",
       "1           0            0                quoted  1349464787202285571  \n",
       "2           0            0                quoted  1371925349064437761  \n",
       "3           0            0            replied_to  1372366503983521795  \n",
       "4           0            0            replied_to  1372365685297385472  "
      ]
     },
     "execution_count": 7,
     "metadata": {},
     "output_type": "execute_result"
    }
   ],
   "source": [
    "#activity.to_csv('data/activity.csv', index = False)\n",
    "activity.head()"
   ]
  },
  {
   "cell_type": "markdown",
   "metadata": {},
   "source": [
    "### 5. Extract edge lists"
   ]
  },
  {
   "cell_type": "code",
   "execution_count": 8,
   "metadata": {},
   "outputs": [
    {
     "name": "stdout",
     "output_type": "stream",
     "text": [
      "1227\n"
     ]
    },
    {
     "data": {
      "text/html": [
       "<div>\n",
       "<style scoped>\n",
       "    .dataframe tbody tr th:only-of-type {\n",
       "        vertical-align: middle;\n",
       "    }\n",
       "\n",
       "    .dataframe tbody tr th {\n",
       "        vertical-align: top;\n",
       "    }\n",
       "\n",
       "    .dataframe thead th {\n",
       "        text-align: right;\n",
       "    }\n",
       "</style>\n",
       "<table border=\"1\" class=\"dataframe\">\n",
       "  <thead>\n",
       "    <tr style=\"text-align: right;\">\n",
       "      <th></th>\n",
       "      <th>author_id_from</th>\n",
       "      <th>author_screen_name_from</th>\n",
       "      <th>status_id</th>\n",
       "      <th>to</th>\n",
       "      <th>edge_type</th>\n",
       "    </tr>\n",
       "  </thead>\n",
       "  <tbody>\n",
       "    <tr>\n",
       "      <th>0</th>\n",
       "      <td>4322065997</td>\n",
       "      <td>thereal_truther</td>\n",
       "      <td>1372348424884875266</td>\n",
       "      <td>COVID</td>\n",
       "      <td>hashtag</td>\n",
       "    </tr>\n",
       "    <tr>\n",
       "      <th>1</th>\n",
       "      <td>4322065997</td>\n",
       "      <td>thereal_truther</td>\n",
       "      <td>1372300385134637057</td>\n",
       "      <td>VaccinesWork</td>\n",
       "      <td>hashtag</td>\n",
       "    </tr>\n",
       "    <tr>\n",
       "      <th>2</th>\n",
       "      <td>404290687</td>\n",
       "      <td>crwriter1</td>\n",
       "      <td>1372360111243542537</td>\n",
       "      <td>health</td>\n",
       "      <td>hashtag</td>\n",
       "    </tr>\n",
       "    <tr>\n",
       "      <th>3</th>\n",
       "      <td>404290687</td>\n",
       "      <td>crwriter1</td>\n",
       "      <td>1372359610657558528</td>\n",
       "      <td>ASIA</td>\n",
       "      <td>hashtag</td>\n",
       "    </tr>\n",
       "    <tr>\n",
       "      <th>4</th>\n",
       "      <td>404290687</td>\n",
       "      <td>crwriter1</td>\n",
       "      <td>1372358095905640450</td>\n",
       "      <td>explorebeBee</td>\n",
       "      <td>hashtag</td>\n",
       "    </tr>\n",
       "  </tbody>\n",
       "</table>\n",
       "</div>"
      ],
      "text/plain": [
       "  author_id_from author_screen_name_from            status_id            to  \\\n",
       "0     4322065997         thereal_truther  1372348424884875266         COVID   \n",
       "1     4322065997         thereal_truther  1372300385134637057  VaccinesWork   \n",
       "2      404290687               crwriter1  1372360111243542537        health   \n",
       "3      404290687               crwriter1  1372359610657558528          ASIA   \n",
       "4      404290687               crwriter1  1372358095905640450  explorebeBee   \n",
       "\n",
       "  edge_type  \n",
       "0   hashtag  \n",
       "1   hashtag  \n",
       "2   hashtag  \n",
       "3   hashtag  \n",
       "4   hashtag  "
      ]
     },
     "execution_count": 8,
     "metadata": {},
     "output_type": "execute_result"
    }
   ],
   "source": [
    "el = api.extract_el(activity)\n",
    "#el.to_csv('data/el.csv', index = False)\n",
    "print(len(el))\n",
    "el.head()"
   ]
  },
  {
   "cell_type": "markdown",
   "metadata": {},
   "source": [
    "### 6. Query seed and mentioned accounts for account info"
   ]
  },
  {
   "cell_type": "code",
   "execution_count": 9,
   "metadata": {},
   "outputs": [
    {
     "name": "stdout",
     "output_type": "stream",
     "text": [
      "seed user count: 2\n",
      "mentioned user count: 89\n",
      "total unique users: 89\n"
     ]
    }
   ],
   "source": [
    "seed_users = seed_account_info['username'].unique().tolist()\n",
    "print('seed user count: ' + str(len(seed_users)))\n",
    "mentioned_users = el['to'][el['edge_type'] == 'mention'].unique().tolist()\n",
    "print('mentioned user count: ' + str(len(mentioned_users)))\n",
    "all_users = list(set(seed_users + mentioned_users))\n",
    "print('total unique users: ' + str(len(all_users)))"
   ]
  },
  {
   "cell_type": "code",
   "execution_count": null,
   "metadata": {},
   "outputs": [],
   "source": [
    "#Add sleep since Twitter API rate limit is 900 user queries per 15 minutes\n",
    "import time\n",
    "\n",
    "counter = 0\n",
    "all_users_df = []\n",
    "for user in all_users:     \n",
    "    try: \n",
    "        resp = api.get_users(usernames=user)        \n",
    "        time.sleep(4)\n",
    "        all_users_df.append(resp)         \n",
    "    except:\n",
    "        pass\n",
    "    counter += 1\n",
    "    if counter %250 == 0:\n",
    "        print(str(counter) + ' out of ' + str(len(all_users)) + ' :: ' + user + ': ' + str(len(resp)))\n",
    "        \n",
    "all_users_df = pd.concat(all_users_df)    \n",
    "all_users_df.reset_index(inplace = True, drop = True)\n",
    "#all_users_df.to_csv('data/all_users.csv', index = False)\n",
    "print(len(all_users_df))"
   ]
  }
 ],
 "metadata": {
  "kernelspec": {
   "display_name": "forcenexus",
   "language": "python",
   "name": "forcenexus"
  },
  "language_info": {
   "codemirror_mode": {
    "name": "ipython",
    "version": 3
   },
   "file_extension": ".py",
   "mimetype": "text/x-python",
   "name": "python",
   "nbconvert_exporter": "python",
   "pygments_lexer": "ipython3",
   "version": "3.8.2"
  }
 },
 "nbformat": 4,
 "nbformat_minor": 4
}
