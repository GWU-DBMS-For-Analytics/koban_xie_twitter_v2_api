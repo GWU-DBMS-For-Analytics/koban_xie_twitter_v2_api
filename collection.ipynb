{
 "cells": [
  {
   "cell_type": "code",
   "execution_count": 1,
   "metadata": {},
   "outputs": [],
   "source": [
    "import api_wrapper as api\n",
    "import os\n",
    "import pandas as pd"
   ]
  },
  {
   "cell_type": "markdown",
   "metadata": {},
   "source": [
    "### 1. Set the `BEARER_TOKEN` variable to your developer bearer token."
   ]
  },
  {
   "cell_type": "code",
   "execution_count": 2,
   "metadata": {},
   "outputs": [],
   "source": [
    "token = pd.read_csv(\"/Users/dankoban/Documents/EM6586_DB_Management/bearer_token.csv\")\n",
    "os.environ[\"BEARER_TOKEN\"] = token['token'][0]"
   ]
  },
  {
   "cell_type": "markdown",
   "metadata": {},
   "source": [
    "### 2. Query user profile info"
   ]
  },
  {
   "cell_type": "code",
   "execution_count": 3,
   "metadata": {},
   "outputs": [
    {
     "data": {
      "text/html": [
       "<div>\n",
       "<style scoped>\n",
       "    .dataframe tbody tr th:only-of-type {\n",
       "        vertical-align: middle;\n",
       "    }\n",
       "\n",
       "    .dataframe tbody tr th {\n",
       "        vertical-align: top;\n",
       "    }\n",
       "\n",
       "    .dataframe thead th {\n",
       "        text-align: right;\n",
       "    }\n",
       "</style>\n",
       "<table border=\"1\" class=\"dataframe\">\n",
       "  <thead>\n",
       "    <tr style=\"text-align: right;\">\n",
       "      <th></th>\n",
       "      <th>user_id</th>\n",
       "      <th>username</th>\n",
       "      <th>name</th>\n",
       "      <th>description</th>\n",
       "      <th>location</th>\n",
       "      <th>created_at</th>\n",
       "      <th>followers_count</th>\n",
       "      <th>following_count</th>\n",
       "      <th>tweet_count</th>\n",
       "      <th>listed_count</th>\n",
       "    </tr>\n",
       "  </thead>\n",
       "  <tbody>\n",
       "    <tr>\n",
       "      <th>0</th>\n",
       "      <td>1247912673322381312</td>\n",
       "      <td>CASCOM_CG</td>\n",
       "      <td>MG Rodney Fogg</td>\n",
       "      <td>Commanding General of Combined Arms Support Co...</td>\n",
       "      <td>Fort Lee, VA</td>\n",
       "      <td>2020-04-08T15:42:51.000Z</td>\n",
       "      <td>2425.0</td>\n",
       "      <td>610.0</td>\n",
       "      <td>2745.0</td>\n",
       "      <td>16.0</td>\n",
       "    </tr>\n",
       "    <tr>\n",
       "      <th>1</th>\n",
       "      <td>3039220281</td>\n",
       "      <td>kobo6992</td>\n",
       "      <td>Dan Koban</td>\n",
       "      <td>Doctoral student at George Washington University</td>\n",
       "      <td>NaN</td>\n",
       "      <td>2015-02-15T16:03:19.000Z</td>\n",
       "      <td>2.0</td>\n",
       "      <td>32.0</td>\n",
       "      <td>3.0</td>\n",
       "      <td>0.0</td>\n",
       "    </tr>\n",
       "  </tbody>\n",
       "</table>\n",
       "</div>"
      ],
      "text/plain": [
       "               user_id   username            name  \\\n",
       "0  1247912673322381312  CASCOM_CG  MG Rodney Fogg   \n",
       "1           3039220281   kobo6992       Dan Koban   \n",
       "\n",
       "                                         description      location  \\\n",
       "0  Commanding General of Combined Arms Support Co...  Fort Lee, VA   \n",
       "1   Doctoral student at George Washington University           NaN   \n",
       "\n",
       "                 created_at  followers_count  following_count  tweet_count  \\\n",
       "0  2020-04-08T15:42:51.000Z           2425.0            610.0       2745.0   \n",
       "1  2015-02-15T16:03:19.000Z              2.0             32.0          3.0   \n",
       "\n",
       "   listed_count  \n",
       "0          16.0  \n",
       "1           0.0  "
      ]
     },
     "execution_count": 3,
     "metadata": {},
     "output_type": "execute_result"
    }
   ],
   "source": [
    "usernames = ['CASCOM_CG', 'kobo6992']\n",
    "user_info = api.get_users(usernames=usernames)\n",
    "user_info"
   ]
  },
  {
   "cell_type": "markdown",
   "metadata": {},
   "source": [
    "### 3. Query user activity"
   ]
  },
  {
   "cell_type": "code",
   "execution_count": 4,
   "metadata": {},
   "outputs": [
    {
     "name": "stdout",
     "output_type": "stream",
     "text": [
      "token: 7140dibdnow9c7btw3w3j65ioqse605q5ljxyhtg4659u\n",
      "token: 7140dibdnow9c7btw3w340iofxa84xkp1uc3c4ir2izp3\n",
      "203\n"
     ]
    },
    {
     "data": {
      "text/html": [
       "<div>\n",
       "<style scoped>\n",
       "    .dataframe tbody tr th:only-of-type {\n",
       "        vertical-align: middle;\n",
       "    }\n",
       "\n",
       "    .dataframe tbody tr th {\n",
       "        vertical-align: top;\n",
       "    }\n",
       "\n",
       "    .dataframe thead th {\n",
       "        text-align: right;\n",
       "    }\n",
       "</style>\n",
       "<table border=\"1\" class=\"dataframe\">\n",
       "  <thead>\n",
       "    <tr style=\"text-align: right;\">\n",
       "      <th></th>\n",
       "      <th>author_id</th>\n",
       "      <th>lang</th>\n",
       "      <th>public_metrics</th>\n",
       "      <th>referenced_tweets</th>\n",
       "      <th>id</th>\n",
       "      <th>entities</th>\n",
       "      <th>conversation_id</th>\n",
       "      <th>created_at</th>\n",
       "      <th>text</th>\n",
       "      <th>in_reply_to_user_id</th>\n",
       "    </tr>\n",
       "  </thead>\n",
       "  <tbody>\n",
       "    <tr>\n",
       "      <th>0</th>\n",
       "      <td>1247912673322381312</td>\n",
       "      <td>en</td>\n",
       "      <td>{'retweet_count': 76, 'reply_count': 0, 'like_...</td>\n",
       "      <td>[{'type': 'retweeted', 'id': '1368242260354154...</td>\n",
       "      <td>1368876193458556929</td>\n",
       "      <td>{'annotations': [{'start': 133, 'end': 137, 'p...</td>\n",
       "      <td>1368876193458556929</td>\n",
       "      <td>2021-03-08T10:48:11.000Z</td>\n",
       "      <td>RT @Martin_Dempsey: “To be yourself in a world...</td>\n",
       "      <td>NaN</td>\n",
       "    </tr>\n",
       "    <tr>\n",
       "      <th>1</th>\n",
       "      <td>1247912673322381312</td>\n",
       "      <td>en</td>\n",
       "      <td>{'retweet_count': 2, 'reply_count': 1, 'like_c...</td>\n",
       "      <td>[{'type': 'quoted', 'id': '1368723829367992329'}]</td>\n",
       "      <td>1368874231245733891</td>\n",
       "      <td>{'urls': [{'start': 75, 'end': 98, 'url': 'htt...</td>\n",
       "      <td>1368874231245733891</td>\n",
       "      <td>2021-03-08T10:40:23.000Z</td>\n",
       "      <td>Integrity! He stood up, made the right decisio...</td>\n",
       "      <td>NaN</td>\n",
       "    </tr>\n",
       "    <tr>\n",
       "      <th>2</th>\n",
       "      <td>1247912673322381312</td>\n",
       "      <td>en</td>\n",
       "      <td>{'retweet_count': 3, 'reply_count': 0, 'like_c...</td>\n",
       "      <td>[{'type': 'quoted', 'id': '1368634050269700097'}]</td>\n",
       "      <td>1368864978858614784</td>\n",
       "      <td>{'urls': [{'start': 61, 'end': 84, 'url': 'htt...</td>\n",
       "      <td>1368864978858614784</td>\n",
       "      <td>2021-03-08T10:03:37.000Z</td>\n",
       "      <td>#WomensHistoryMonth Demonstrating the example ...</td>\n",
       "      <td>NaN</td>\n",
       "    </tr>\n",
       "    <tr>\n",
       "      <th>3</th>\n",
       "      <td>1247912673322381312</td>\n",
       "      <td>en</td>\n",
       "      <td>{'retweet_count': 11, 'reply_count': 1, 'like_...</td>\n",
       "      <td>[{'type': 'quoted', 'id': '1367225476268367874'}]</td>\n",
       "      <td>1367529603825303553</td>\n",
       "      <td>{'urls': [{'start': 53, 'end': 76, 'url': 'htt...</td>\n",
       "      <td>1367529603825303553</td>\n",
       "      <td>2021-03-04T17:37:19.000Z</td>\n",
       "      <td>Great leader - great logistics officer!  Many ...</td>\n",
       "      <td>NaN</td>\n",
       "    </tr>\n",
       "    <tr>\n",
       "      <th>4</th>\n",
       "      <td>1247912673322381312</td>\n",
       "      <td>en</td>\n",
       "      <td>{'retweet_count': 12, 'reply_count': 0, 'like_...</td>\n",
       "      <td>[{'type': 'retweeted', 'id': '1367482582267527...</td>\n",
       "      <td>1367496081647558658</td>\n",
       "      <td>{'hashtags': [{'start': 29, 'end': 47, 'tag': ...</td>\n",
       "      <td>1367496081647558658</td>\n",
       "      <td>2021-03-04T15:24:07.000Z</td>\n",
       "      <td>RT @csaSoldier4Life: In this #ThrowbackThursda...</td>\n",
       "      <td>NaN</td>\n",
       "    </tr>\n",
       "  </tbody>\n",
       "</table>\n",
       "</div>"
      ],
      "text/plain": [
       "             author_id lang  \\\n",
       "0  1247912673322381312   en   \n",
       "1  1247912673322381312   en   \n",
       "2  1247912673322381312   en   \n",
       "3  1247912673322381312   en   \n",
       "4  1247912673322381312   en   \n",
       "\n",
       "                                      public_metrics  \\\n",
       "0  {'retweet_count': 76, 'reply_count': 0, 'like_...   \n",
       "1  {'retweet_count': 2, 'reply_count': 1, 'like_c...   \n",
       "2  {'retweet_count': 3, 'reply_count': 0, 'like_c...   \n",
       "3  {'retweet_count': 11, 'reply_count': 1, 'like_...   \n",
       "4  {'retweet_count': 12, 'reply_count': 0, 'like_...   \n",
       "\n",
       "                                   referenced_tweets                   id  \\\n",
       "0  [{'type': 'retweeted', 'id': '1368242260354154...  1368876193458556929   \n",
       "1  [{'type': 'quoted', 'id': '1368723829367992329'}]  1368874231245733891   \n",
       "2  [{'type': 'quoted', 'id': '1368634050269700097'}]  1368864978858614784   \n",
       "3  [{'type': 'quoted', 'id': '1367225476268367874'}]  1367529603825303553   \n",
       "4  [{'type': 'retweeted', 'id': '1367482582267527...  1367496081647558658   \n",
       "\n",
       "                                            entities      conversation_id  \\\n",
       "0  {'annotations': [{'start': 133, 'end': 137, 'p...  1368876193458556929   \n",
       "1  {'urls': [{'start': 75, 'end': 98, 'url': 'htt...  1368874231245733891   \n",
       "2  {'urls': [{'start': 61, 'end': 84, 'url': 'htt...  1368864978858614784   \n",
       "3  {'urls': [{'start': 53, 'end': 76, 'url': 'htt...  1367529603825303553   \n",
       "4  {'hashtags': [{'start': 29, 'end': 47, 'tag': ...  1367496081647558658   \n",
       "\n",
       "                 created_at  \\\n",
       "0  2021-03-08T10:48:11.000Z   \n",
       "1  2021-03-08T10:40:23.000Z   \n",
       "2  2021-03-08T10:03:37.000Z   \n",
       "3  2021-03-04T17:37:19.000Z   \n",
       "4  2021-03-04T15:24:07.000Z   \n",
       "\n",
       "                                                text in_reply_to_user_id  \n",
       "0  RT @Martin_Dempsey: “To be yourself in a world...                 NaN  \n",
       "1  Integrity! He stood up, made the right decisio...                 NaN  \n",
       "2  #WomensHistoryMonth Demonstrating the example ...                 NaN  \n",
       "3  Great leader - great logistics officer!  Many ...                 NaN  \n",
       "4  RT @csaSoldier4Life: In this #ThrowbackThursda...                 NaN  "
      ]
     },
     "execution_count": 4,
     "metadata": {},
     "output_type": "execute_result"
    }
   ],
   "source": [
    "activity = api.get_user_activity(usernames=usernames, record_count = 200)\n",
    "print(len(activity))\n",
    "activity.head()"
   ]
  },
  {
   "cell_type": "markdown",
   "metadata": {},
   "source": [
    "### 4. Extract edge lists"
   ]
  },
  {
   "cell_type": "code",
   "execution_count": 5,
   "metadata": {},
   "outputs": [
    {
     "data": {
      "text/plain": [
       "mention    375\n",
       "url        132\n",
       "hashtag     61\n",
       "Name: edge_type, dtype: int64"
      ]
     },
     "execution_count": 5,
     "metadata": {},
     "output_type": "execute_result"
    }
   ],
   "source": [
    "el = api.extract_el(activity)\n",
    "el['edge_type'].value_counts()"
   ]
  },
  {
   "cell_type": "code",
   "execution_count": 7,
   "metadata": {},
   "outputs": [
    {
     "data": {
      "text/html": [
       "<div>\n",
       "<style scoped>\n",
       "    .dataframe tbody tr th:only-of-type {\n",
       "        vertical-align: middle;\n",
       "    }\n",
       "\n",
       "    .dataframe tbody tr th {\n",
       "        vertical-align: top;\n",
       "    }\n",
       "\n",
       "    .dataframe thead th {\n",
       "        text-align: right;\n",
       "    }\n",
       "</style>\n",
       "<table border=\"1\" class=\"dataframe\">\n",
       "  <thead>\n",
       "    <tr style=\"text-align: right;\">\n",
       "      <th></th>\n",
       "      <th>author_id</th>\n",
       "      <th>status_id</th>\n",
       "      <th>hashtag</th>\n",
       "      <th>edge_type</th>\n",
       "      <th>mentioned_user</th>\n",
       "      <th>url</th>\n",
       "    </tr>\n",
       "  </thead>\n",
       "  <tbody>\n",
       "    <tr>\n",
       "      <th>0</th>\n",
       "      <td>1247912673322381312</td>\n",
       "      <td>1368864978858614784</td>\n",
       "      <td>WomensHistoryMonth</td>\n",
       "      <td>hashtag</td>\n",
       "      <td>NaN</td>\n",
       "      <td>NaN</td>\n",
       "    </tr>\n",
       "    <tr>\n",
       "      <th>1</th>\n",
       "      <td>1247912673322381312</td>\n",
       "      <td>1367496081647558658</td>\n",
       "      <td>ThrowbackThursday</td>\n",
       "      <td>hashtag</td>\n",
       "      <td>NaN</td>\n",
       "      <td>NaN</td>\n",
       "    </tr>\n",
       "    <tr>\n",
       "      <th>2</th>\n",
       "      <td>1247912673322381312</td>\n",
       "      <td>1367496081647558658</td>\n",
       "      <td>SoldierForLifePodcast</td>\n",
       "      <td>hashtag</td>\n",
       "      <td>NaN</td>\n",
       "      <td>NaN</td>\n",
       "    </tr>\n",
       "    <tr>\n",
       "      <th>3</th>\n",
       "      <td>1247912673322381312</td>\n",
       "      <td>1367496081647558658</td>\n",
       "      <td>WomensHistoryMonth</td>\n",
       "      <td>hashtag</td>\n",
       "      <td>NaN</td>\n",
       "      <td>NaN</td>\n",
       "    </tr>\n",
       "    <tr>\n",
       "      <th>4</th>\n",
       "      <td>1247912673322381312</td>\n",
       "      <td>1367495589429202957</td>\n",
       "      <td>doctrine</td>\n",
       "      <td>hashtag</td>\n",
       "      <td>NaN</td>\n",
       "      <td>NaN</td>\n",
       "    </tr>\n",
       "  </tbody>\n",
       "</table>\n",
       "</div>"
      ],
      "text/plain": [
       "             author_id            status_id                hashtag edge_type  \\\n",
       "0  1247912673322381312  1368864978858614784     WomensHistoryMonth   hashtag   \n",
       "1  1247912673322381312  1367496081647558658      ThrowbackThursday   hashtag   \n",
       "2  1247912673322381312  1367496081647558658  SoldierForLifePodcast   hashtag   \n",
       "3  1247912673322381312  1367496081647558658     WomensHistoryMonth   hashtag   \n",
       "4  1247912673322381312  1367495589429202957               doctrine   hashtag   \n",
       "\n",
       "  mentioned_user  url  \n",
       "0            NaN  NaN  \n",
       "1            NaN  NaN  \n",
       "2            NaN  NaN  \n",
       "3            NaN  NaN  \n",
       "4            NaN  NaN  "
      ]
     },
     "execution_count": 7,
     "metadata": {},
     "output_type": "execute_result"
    }
   ],
   "source": [
    "el.head()"
   ]
  }
 ],
 "metadata": {
  "kernelspec": {
   "display_name": "forcenexus",
   "language": "python",
   "name": "forcenexus"
  },
  "language_info": {
   "codemirror_mode": {
    "name": "ipython",
    "version": 3
   },
   "file_extension": ".py",
   "mimetype": "text/x-python",
   "name": "python",
   "nbconvert_exporter": "python",
   "pygments_lexer": "ipython3",
   "version": "3.8.2"
  }
 },
 "nbformat": 4,
 "nbformat_minor": 4
}
